{
 "cells": [
  {
   "cell_type": "code",
   "execution_count": 3,
   "metadata": {},
   "outputs": [],
   "source": [
    "import pandas as pd  \n",
    "  \n",
    "# Load the data into a DataFrame  \n",
    "data = pd.read_excel('data.xlsx', parse_dates=['TIMESTAMP', 'FIRST DAY', 'INTERVENTION TIME'])  "
   ]
  },
  {
   "cell_type": "code",
   "execution_count": 5,
   "metadata": {},
   "outputs": [],
   "source": [
    "# Extract the first user by finding the minimum ID  \n",
    "first_user_id = data['ID'].min()  \n",
    "  \n",
    "# Filter the DataFrame for that user  \n",
    "first_user_data = data[data['ID'] == first_user_id]  \n",
    "  \n",
    "# Extract the first session for the first user (assuming sessions start from the smallest value)  \n",
    "first_session_number = first_user_data['SESSION'].min()  \n",
    "first_user_first_session_data = first_user_data[first_user_data['SESSION'] == first_session_number]  \n",
    "  "
   ]
  },
  {
   "cell_type": "code",
   "execution_count": 9,
   "metadata": {},
   "outputs": [
    {
     "name": "stdout",
     "output_type": "stream",
     "text": [
      "Session Duration for User ID 2 in Session 0: 1602.0\n"
     ]
    }
   ],
   "source": [
    "if not first_user_first_session_data.empty:  \n",
    "    # Get the first and last timestamps within this session  \n",
    "    first_timestamp = first_user_first_session_data['TIMESTAMP'].min()  \n",
    "    last_timestamp = first_user_first_session_data['TIMESTAMP'].max()  \n",
    "      \n",
    "    # Calculate the session duration  \n",
    "    session_duration = last_timestamp - first_timestamp  \n",
    "      \n",
    "    # Display the session duration  \n",
    "    print(f\"Session Duration for User ID {first_user_id} in Session {first_session_number}: {session_duration.total_seconds()}\")  \n",
    "else:  \n",
    "    print(\"No data found for the first user and their first session.\")  "
   ]
  }
 ],
 "metadata": {
  "kernelspec": {
   "display_name": "Python 3",
   "language": "python",
   "name": "python3"
  },
  "language_info": {
   "codemirror_mode": {
    "name": "ipython",
    "version": 3
   },
   "file_extension": ".py",
   "mimetype": "text/x-python",
   "name": "python",
   "nbconvert_exporter": "python",
   "pygments_lexer": "ipython3",
   "version": "3.10.10"
  }
 },
 "nbformat": 4,
 "nbformat_minor": 2
}
