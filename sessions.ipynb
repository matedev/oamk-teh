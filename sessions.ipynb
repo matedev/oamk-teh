{
 "cells": [
  {
   "cell_type": "code",
   "execution_count": 1,
   "metadata": {},
   "outputs": [],
   "source": [
    "import pandas as pd  \n",
    "import matplotlib.pyplot as plt  \n",
    "import seaborn as sns  \n",
    "\n",
    "data = pd.read_excel('data.xlsx', parse_dates=['TIMESTAMP', 'FIRST DAY', 'INTERVENTION TIME'])"
   ]
  },
  {
   "cell_type": "code",
   "execution_count": 7,
   "metadata": {},
   "outputs": [],
   "source": [
    "# There is an extra space in some columns' name ie. 'PREVIOUS '.\n",
    "data.columns = data.columns.str.strip()"
   ]
  },
  {
   "cell_type": "code",
   "execution_count": 8,
   "metadata": {},
   "outputs": [],
   "source": [
    "#  Grouping entries by ID and SESSION and constructing SESSION_DURATION\n",
    "\n",
    "data = data.sort_values(by=['ID', 'SESSION', 'TIMESTAMP'])  \n",
    "  \n",
    "# Calculate session duration for each user/session combination  \n",
    "session_summary = data.groupby(['ID', 'SESSION']).agg(  \n",
    "    SESSION_START=('TIMESTAMP', 'first'),  \n",
    "    SESSION_END=('TIMESTAMP', 'last')\n",
    ")  \n",
    "  \n",
    "# Calculate the duration in seconds  \n",
    "session_summary['SESSION_DURATION'] = (session_summary['SESSION_END'] - session_summary['SESSION_START']).dt.total_seconds()  \n",
    "  \n",
    "# Reset the index to include 'ID' and 'SESSION' as columns  \n",
    "session_summary = session_summary.reset_index()  "
   ]
  },
  {
   "cell_type": "code",
   "execution_count": 15,
   "metadata": {},
   "outputs": [
    {
     "name": "stdout",
     "output_type": "stream",
     "text": [
      "Average number of sessions per user: 23.65\n"
     ]
    }
   ],
   "source": [
    "# Count the number of unique sessions per user  \n",
    "sessionsPuser = session_summary.groupby('ID')['SESSION'].nunique()  \n",
    "  \n",
    "# Calculate the average number of sessions per user  \n",
    "avg = sessionsPuser.mean()\n",
    "\n",
    "print(f\"Average number of sessions per user: {avg:.2f}\")  "
   ]
  },
  {
   "cell_type": "code",
   "execution_count": 9,
   "metadata": {},
   "outputs": [],
   "source": [
    "session_summary.to_excel('session.xlsx')"
   ]
  }
 ],
 "metadata": {
  "kernelspec": {
   "display_name": "Python 3",
   "language": "python",
   "name": "python3"
  },
  "language_info": {
   "codemirror_mode": {
    "name": "ipython",
    "version": 3
   },
   "file_extension": ".py",
   "mimetype": "text/x-python",
   "name": "python",
   "nbconvert_exporter": "python",
   "pygments_lexer": "ipython3",
   "version": "3.10.10"
  }
 },
 "nbformat": 4,
 "nbformat_minor": 2
}
